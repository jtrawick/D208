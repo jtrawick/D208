{
 "cells": [
  {
   "cell_type": "markdown",
   "id": "2612abad",
   "metadata": {
    "id": "ee5e0528-d4bd-4530-80b9-16d63c983cc2"
   },
   "source": [
    "# D208- Predictive Modeling\n",
    "___\n",
    "## Performance Assessment - Task 1: Multiple Regression for Predictive Modeling\n",
    "### Medical Readmission Data Set (Clean)\n",
    "---\n",
    "<br></br>"
   ]
  },
  {
   "cell_type": "markdown",
   "id": "335bf2a9",
   "metadata": {},
   "source": [
    "## Part I"
   ]
  },
  {
   "cell_type": "markdown",
   "id": "1830b4d6",
   "metadata": {
    "id": "827a1155-8009-412a-bb18-3b502189c21f"
   },
   "source": [
    "### A1: Research Question"
   ]
  },
  {
   "cell_type": "markdown",
   "id": "537147e9",
   "metadata": {
    "id": "374a65c2-f393-4bd6-aaeb-3ccb08e28e00"
   },
   "source": [
    "### A2: Objectives and Goals"
   ]
  },
  {
   "cell_type": "markdown",
   "id": "d5c66706",
   "metadata": {
    "id": "Rc_zQyVMaK6H"
   },
   "source": [
    "## Part II"
   ]
  },
  {
   "cell_type": "markdown",
   "id": "9df897bc",
   "metadata": {},
   "source": [
    "### B1: Summary of Assumptions"
   ]
  },
  {
   "cell_type": "markdown",
   "id": "2780ab48",
   "metadata": {},
   "source": [
    "### B2: Tool Benefits"
   ]
  },
  {
   "cell_type": "markdown",
   "id": "e4a67b13",
   "metadata": {},
   "source": [
    "### B3: Appropriate Technique"
   ]
  },
  {
   "cell_type": "markdown",
   "id": "631de5ff",
   "metadata": {
    "id": "Rc_zQyVMaK6H"
   },
   "source": [
    "## Part III"
   ]
  },
  {
   "cell_type": "markdown",
   "id": "0e9f2d0b",
   "metadata": {},
   "source": [
    "### C1: Data Goals"
   ]
  },
  {
   "cell_type": "markdown",
   "id": "6288a3cf",
   "metadata": {},
   "source": [
    "### C2: Summary Statistics"
   ]
  },
  {
   "cell_type": "markdown",
   "id": "c600a345",
   "metadata": {},
   "source": [
    "### C3: Steps to Prepare the Data"
   ]
  },
  {
   "cell_type": "markdown",
   "id": "c6ac7ca0",
   "metadata": {},
   "source": [
    "### C4: Visualizations"
   ]
  },
  {
   "cell_type": "markdown",
   "id": "e377ecdc",
   "metadata": {},
   "source": [
    "### C5: Prepared Data Set"
   ]
  },
  {
   "cell_type": "markdown",
   "id": "67178d01",
   "metadata": {},
   "source": [
    "## Part IV"
   ]
  },
  {
   "cell_type": "markdown",
   "id": "c079f7e6",
   "metadata": {},
   "source": [
    "### D1: Initial Model"
   ]
  },
  {
   "cell_type": "markdown",
   "id": "7767cc8c",
   "metadata": {},
   "source": [
    "### D2: Justification of Model Reduction"
   ]
  },
  {
   "cell_type": "markdown",
   "id": "5cc5f2e6",
   "metadata": {},
   "source": [
    "### D3: Reduced Multiple Regression Model"
   ]
  },
  {
   "cell_type": "markdown",
   "id": "f2ea2797",
   "metadata": {},
   "source": [
    "## Part V"
   ]
  },
  {
   "cell_type": "markdown",
   "id": "f77e7638",
   "metadata": {},
   "source": [
    "### E1: Model Comparison"
   ]
  },
  {
   "cell_type": "markdown",
   "id": "44ec8ab7",
   "metadata": {},
   "source": [
    "### E2: Output and Calculations"
   ]
  },
  {
   "cell_type": "markdown",
   "id": "a411da08",
   "metadata": {},
   "source": [
    "### E3: Code"
   ]
  },
  {
   "cell_type": "code",
   "execution_count": null,
   "id": "3fa9dc2b",
   "metadata": {},
   "outputs": [],
   "source": []
  },
  {
   "cell_type": "code",
   "execution_count": 1,
   "id": "04bb7ca1",
   "metadata": {},
   "outputs": [],
   "source": [
    "import numpy as np\n",
    "import pandas as pd\n",
    "from scipy import stats\n",
    "import matplotlib.pyplot as plt\n",
    "import statsmodels.api as sm\n",
    "import statsmodels.formula.api as smf\n",
    "import seaborn as sns"
   ]
  },
  {
   "cell_type": "code",
   "execution_count": 2,
   "id": "29e5c6f4",
   "metadata": {},
   "outputs": [],
   "source": [
    "df = pd.read_csv('./data/jaybob.csv')"
   ]
  },
  {
   "cell_type": "code",
   "execution_count": 3,
   "id": "d6806ebe",
   "metadata": {},
   "outputs": [
    {
     "data": {
      "text/html": [
       "<div>\n",
       "<style scoped>\n",
       "    .dataframe tbody tr th:only-of-type {\n",
       "        vertical-align: middle;\n",
       "    }\n",
       "\n",
       "    .dataframe tbody tr th {\n",
       "        vertical-align: top;\n",
       "    }\n",
       "\n",
       "    .dataframe thead th {\n",
       "        text-align: right;\n",
       "    }\n",
       "</style>\n",
       "<table border=\"1\" class=\"dataframe\">\n",
       "  <thead>\n",
       "    <tr style=\"text-align: right;\">\n",
       "      <th></th>\n",
       "      <th>Car ID</th>\n",
       "      <th>Price</th>\n",
       "      <th>Odometer</th>\n",
       "      <th>Age</th>\n",
       "      <th>Pink slip</th>\n",
       "      <th>Sold?</th>\n",
       "    </tr>\n",
       "  </thead>\n",
       "  <tbody>\n",
       "    <tr>\n",
       "      <th>0</th>\n",
       "      <td>1</td>\n",
       "      <td>$1,000</td>\n",
       "      <td>30.298</td>\n",
       "      <td>28</td>\n",
       "      <td>1</td>\n",
       "      <td>1</td>\n",
       "    </tr>\n",
       "    <tr>\n",
       "      <th>1</th>\n",
       "      <td>2</td>\n",
       "      <td>$9,000</td>\n",
       "      <td>19.647</td>\n",
       "      <td>40</td>\n",
       "      <td>1</td>\n",
       "      <td>0</td>\n",
       "    </tr>\n",
       "    <tr>\n",
       "      <th>2</th>\n",
       "      <td>3</td>\n",
       "      <td>$500</td>\n",
       "      <td>170.270</td>\n",
       "      <td>58</td>\n",
       "      <td>0</td>\n",
       "      <td>1</td>\n",
       "    </tr>\n",
       "    <tr>\n",
       "      <th>3</th>\n",
       "      <td>4</td>\n",
       "      <td>$3,000</td>\n",
       "      <td>68.394</td>\n",
       "      <td>12</td>\n",
       "      <td>1</td>\n",
       "      <td>1</td>\n",
       "    </tr>\n",
       "    <tr>\n",
       "      <th>4</th>\n",
       "      <td>5</td>\n",
       "      <td>$9,500</td>\n",
       "      <td>11.662</td>\n",
       "      <td>3</td>\n",
       "      <td>0</td>\n",
       "      <td>0</td>\n",
       "    </tr>\n",
       "  </tbody>\n",
       "</table>\n",
       "</div>"
      ],
      "text/plain": [
       "   Car ID    Price   Odometer  Age  Pink slip  Sold?\n",
       "0       1   $1,000     30.298   28          1      1\n",
       "1       2   $9,000     19.647   40          1      0\n",
       "2       3     $500    170.270   58          0      1\n",
       "3       4   $3,000     68.394   12          1      1\n",
       "4       5   $9,500     11.662    3          0      0"
      ]
     },
     "execution_count": 3,
     "metadata": {},
     "output_type": "execute_result"
    }
   ],
   "source": [
    "df.head()"
   ]
  },
  {
   "cell_type": "code",
   "execution_count": 4,
   "id": "68bcfde6",
   "metadata": {},
   "outputs": [],
   "source": [
    "df.columns = df.columns.str.strip()"
   ]
  },
  {
   "cell_type": "code",
   "execution_count": 5,
   "id": "04f3eee6",
   "metadata": {},
   "outputs": [
    {
     "name": "stderr",
     "output_type": "stream",
     "text": [
      "/var/folders/3d/md104nbx6j195mdyz_lnwl140000gn/T/ipykernel_26657/3179587834.py:1: FutureWarning: The default value of regex will change from True to False in a future version. In addition, single character regular expressions will *not* be treated as literal strings when regex=True.\n",
      "  df.Price = df.Price.str.replace('$', '')\n"
     ]
    },
    {
     "data": {
      "text/html": [
       "<div>\n",
       "<style scoped>\n",
       "    .dataframe tbody tr th:only-of-type {\n",
       "        vertical-align: middle;\n",
       "    }\n",
       "\n",
       "    .dataframe tbody tr th {\n",
       "        vertical-align: top;\n",
       "    }\n",
       "\n",
       "    .dataframe thead th {\n",
       "        text-align: right;\n",
       "    }\n",
       "</style>\n",
       "<table border=\"1\" class=\"dataframe\">\n",
       "  <thead>\n",
       "    <tr style=\"text-align: right;\">\n",
       "      <th></th>\n",
       "      <th>Car ID</th>\n",
       "      <th>Price</th>\n",
       "      <th>Odometer</th>\n",
       "      <th>Age</th>\n",
       "      <th>Pink slip</th>\n",
       "      <th>Sold?</th>\n",
       "    </tr>\n",
       "  </thead>\n",
       "  <tbody>\n",
       "    <tr>\n",
       "      <th>0</th>\n",
       "      <td>1</td>\n",
       "      <td>1000</td>\n",
       "      <td>30.298</td>\n",
       "      <td>28</td>\n",
       "      <td>1</td>\n",
       "      <td>1</td>\n",
       "    </tr>\n",
       "    <tr>\n",
       "      <th>1</th>\n",
       "      <td>2</td>\n",
       "      <td>9000</td>\n",
       "      <td>19.647</td>\n",
       "      <td>40</td>\n",
       "      <td>1</td>\n",
       "      <td>0</td>\n",
       "    </tr>\n",
       "    <tr>\n",
       "      <th>2</th>\n",
       "      <td>3</td>\n",
       "      <td>500</td>\n",
       "      <td>170.270</td>\n",
       "      <td>58</td>\n",
       "      <td>0</td>\n",
       "      <td>1</td>\n",
       "    </tr>\n",
       "    <tr>\n",
       "      <th>3</th>\n",
       "      <td>4</td>\n",
       "      <td>3000</td>\n",
       "      <td>68.394</td>\n",
       "      <td>12</td>\n",
       "      <td>1</td>\n",
       "      <td>1</td>\n",
       "    </tr>\n",
       "    <tr>\n",
       "      <th>4</th>\n",
       "      <td>5</td>\n",
       "      <td>9500</td>\n",
       "      <td>11.662</td>\n",
       "      <td>3</td>\n",
       "      <td>0</td>\n",
       "      <td>0</td>\n",
       "    </tr>\n",
       "  </tbody>\n",
       "</table>\n",
       "</div>"
      ],
      "text/plain": [
       "   Car ID   Price  Odometer  Age  Pink slip  Sold?\n",
       "0       1   1000     30.298   28          1      1\n",
       "1       2   9000     19.647   40          1      0\n",
       "2       3    500    170.270   58          0      1\n",
       "3       4   3000     68.394   12          1      1\n",
       "4       5   9500     11.662    3          0      0"
      ]
     },
     "execution_count": 5,
     "metadata": {},
     "output_type": "execute_result"
    }
   ],
   "source": [
    "df.Price = df.Price.str.replace('$', '')\n",
    "df.Price = df.Price.str.replace(',', '')\n",
    "\n",
    "df.head()"
   ]
  },
  {
   "cell_type": "code",
   "execution_count": 6,
   "id": "44d55df8",
   "metadata": {},
   "outputs": [],
   "source": [
    "df.Price = df.Price.astype('float64')"
   ]
  },
  {
   "cell_type": "code",
   "execution_count": 7,
   "id": "2fc9d751",
   "metadata": {},
   "outputs": [
    {
     "name": "stdout",
     "output_type": "stream",
     "text": [
      "<class 'pandas.core.frame.DataFrame'>\n",
      "RangeIndex: 100 entries, 0 to 99\n",
      "Data columns (total 6 columns):\n",
      " #   Column     Non-Null Count  Dtype  \n",
      "---  ------     --------------  -----  \n",
      " 0   Car ID     100 non-null    int64  \n",
      " 1   Price      100 non-null    float64\n",
      " 2   Odometer   100 non-null    float64\n",
      " 3   Age        100 non-null    int64  \n",
      " 4   Pink slip  100 non-null    int64  \n",
      " 5   Sold?      100 non-null    int64  \n",
      "dtypes: float64(2), int64(4)\n",
      "memory usage: 4.8 KB\n"
     ]
    }
   ],
   "source": [
    "df.info()"
   ]
  },
  {
   "cell_type": "code",
   "execution_count": 8,
   "id": "eae9d488",
   "metadata": {},
   "outputs": [
    {
     "data": {
      "image/png": "[encoded data removed]",
      "text/plain": [
       "<Figure size 432x288 with 1 Axes>"
      ]
     },
     "metadata": {
      "needs_background": "light"
     },
     "output_type": "display_data"
    }
   ],
   "source": [
    "\n",
    "sns.scatterplot(x='Age', y='Price', data=df)\n",
    "plt.show()"
   ]
  },
  {
   "cell_type": "code",
   "execution_count": 9,
   "id": "8c146bf3",
   "metadata": {},
   "outputs": [
    {
     "data": {
      "text/plain": [
       "<AxesSubplot:xlabel='Odometer', ylabel='Price'>"
      ]
     },
     "execution_count": 9,
     "metadata": {},
     "output_type": "execute_result"
    },
    {
     "data": {
      "image/png": "[encoded data removed]",
      "text/plain": [
       "<Figure size 432x288 with 1 Axes>"
      ]
     },
     "metadata": {
      "needs_background": "light"
     },
     "output_type": "display_data"
    }
   ],
   "source": [
    "sns.scatterplot(x='Odometer', y='Price', data=df)"
   ]
  },
  {
   "cell_type": "code",
   "execution_count": 10,
   "id": "6ab876f7",
   "metadata": {},
   "outputs": [
    {
     "name": "stdout",
     "output_type": "stream",
     "text": [
      "                            OLS Regression Results                            \n",
      "==============================================================================\n",
      "Dep. Variable:                  Price   R-squared:                       0.171\n",
      "Model:                            OLS   Adj. R-squared:                  0.154\n",
      "Method:                 Least Squares   F-statistic:                     9.980\n",
      "Date:                Fri, 05 Nov 2021   Prob (F-statistic):           0.000114\n",
      "Time:                        18:58:05   Log-Likelihood:                -985.48\n",
      "No. Observations:                 100   AIC:                             1977.\n",
      "Df Residuals:                      97   BIC:                             1985.\n",
      "Df Model:                           2                                         \n",
      "Covariance Type:            nonrobust                                         \n",
      "==============================================================================\n",
      "                 coef    std err          t      P>|t|      [0.025      0.975]\n",
      "------------------------------------------------------------------------------\n",
      "Intercept   4615.9004    792.153      5.827      0.000    3043.695    6188.106\n",
      "Age           98.9215     29.974      3.300      0.001      39.431     158.412\n",
      "Odometer     -23.0287      6.284     -3.665      0.000     -35.501     -10.556\n",
      "==============================================================================\n",
      "Omnibus:                       45.711   Durbin-Watson:                   1.686\n",
      "Prob(Omnibus):                  0.000   Jarque-Bera (JB):              125.968\n",
      "Skew:                           1.653   Prob(JB):                     4.43e-28\n",
      "Kurtosis:                       7.394   Cond. No.                         167.\n",
      "==============================================================================\n",
      "\n",
      "Notes:\n",
      "[1] Standard Errors assume that the covariance matrix of the errors is correctly specified.\n"
     ]
    }
   ],
   "source": [
    "results = smf.ols('Price ~ Age + Odometer', data=df).fit()\n",
    "print(results.summary())"
   ]
  },
  {
   "cell_type": "code",
   "execution_count": 11,
   "id": "25c05c1a",
   "metadata": {},
   "outputs": [],
   "source": [
    "# square age and invert odometer\n",
    "df['Age2'] = df.Age ** 2\n",
    "df['OdometerInv'] = df.Odometer.rdiv(1)"
   ]
  },
  {
   "cell_type": "code",
   "execution_count": 12,
   "id": "717269c7",
   "metadata": {},
   "outputs": [
    {
     "name": "stdout",
     "output_type": "stream",
     "text": [
      "                            OLS Regression Results                            \n",
      "==============================================================================\n",
      "Dep. Variable:                  Price   R-squared:                       0.585\n",
      "Model:                            OLS   Adj. R-squared:                  0.572\n",
      "Method:                 Least Squares   F-statistic:                     45.13\n",
      "Date:                Fri, 05 Nov 2021   Prob (F-statistic):           2.78e-18\n",
      "Time:                        18:58:06   Log-Likelihood:                -950.85\n",
      "No. Observations:                 100   AIC:                             1910.\n",
      "Df Residuals:                      96   BIC:                             1920.\n",
      "Df Model:                           3                                         \n",
      "Covariance Type:            nonrobust                                         \n",
      "===============================================================================\n",
      "                  coef    std err          t      P>|t|      [0.025      0.975]\n",
      "-------------------------------------------------------------------------------\n",
      "Intercept    8809.0342    806.828     10.918      0.000    7207.494    1.04e+04\n",
      "Age          -429.6265     56.392     -7.619      0.000    -541.564    -317.689\n",
      "Age2            7.3172      0.735      9.958      0.000       5.859       8.776\n",
      "OdometerInv  1946.4619    677.350      2.874      0.005     601.933    3290.990\n",
      "==============================================================================\n",
      "Omnibus:                       14.992   Durbin-Watson:                   2.089\n",
      "Prob(Omnibus):                  0.001   Jarque-Bera (JB):               17.415\n",
      "Skew:                           0.835   Prob(JB):                     0.000165\n",
      "Kurtosis:                       4.179   Cond. No.                     3.62e+03\n",
      "==============================================================================\n",
      "\n",
      "Notes:\n",
      "[1] Standard Errors assume that the covariance matrix of the errors is correctly specified.\n",
      "[2] The condition number is large, 3.62e+03. This might indicate that there are\n",
      "strong multicollinearity or other numerical problems.\n"
     ]
    }
   ],
   "source": [
    "results = smf.ols('Price ~ Age + Age2 + OdometerInv', data=df).fit()\n",
    "print(results.summary())"
   ]
  },
  {
   "cell_type": "code",
   "execution_count": 13,
   "id": "80e95427",
   "metadata": {},
   "outputs": [
    {
     "data": {
      "image/png": "[encoded data removed]",
      "text/plain": [
       "<Figure size 432x288 with 1 Axes>"
      ]
     },
     "metadata": {
      "needs_background": "light"
     },
     "output_type": "display_data"
    }
   ],
   "source": [
    "# log odometer\n",
    "df['OdometerLog'] = np.log(df.Odometer)\n",
    "sns.histplot(x='OdometerLog', data=df)\n",
    "plt.show()"
   ]
  },
  {
   "cell_type": "code",
   "execution_count": 14,
   "id": "c312dd7b",
   "metadata": {},
   "outputs": [
    {
     "name": "stdout",
     "output_type": "stream",
     "text": [
      "                            OLS Regression Results                            \n",
      "==============================================================================\n",
      "Dep. Variable:                  Price   R-squared:                       0.613\n",
      "Model:                            OLS   Adj. R-squared:                  0.601\n",
      "Method:                 Least Squares   F-statistic:                     50.66\n",
      "Date:                Fri, 05 Nov 2021   Prob (F-statistic):           1.02e-19\n",
      "Time:                        18:58:08   Log-Likelihood:                -947.38\n",
      "No. Observations:                 100   AIC:                             1903.\n",
      "Df Residuals:                      96   BIC:                             1913.\n",
      "Df Model:                           3                                         \n",
      "Covariance Type:            nonrobust                                         \n",
      "===============================================================================\n",
      "                  coef    std err          t      P>|t|      [0.025      0.975]\n",
      "-------------------------------------------------------------------------------\n",
      "Intercept    1.186e+04    940.977     12.607      0.000    9995.426    1.37e+04\n",
      "Age          -365.5773     58.864     -6.211      0.000    -482.421    -248.734\n",
      "Age2            6.6283      0.749      8.850      0.000       5.142       8.115\n",
      "OdometerLog -1079.4156    272.065     -3.967      0.000   -1619.460    -539.371\n",
      "==============================================================================\n",
      "Omnibus:                        6.983   Durbin-Watson:                   2.066\n",
      "Prob(Omnibus):                  0.030   Jarque-Bera (JB):                6.495\n",
      "Skew:                           0.597   Prob(JB):                       0.0389\n",
      "Kurtosis:                       3.368   Cond. No.                     4.13e+03\n",
      "==============================================================================\n",
      "\n",
      "Notes:\n",
      "[1] Standard Errors assume that the covariance matrix of the errors is correctly specified.\n",
      "[2] The condition number is large, 4.13e+03. This might indicate that there are\n",
      "strong multicollinearity or other numerical problems.\n"
     ]
    }
   ],
   "source": [
    "results = smf.ols('Price ~ Age + Age2 + OdometerLog', data=df).fit()\n",
    "print(results.summary())"
   ]
  },
  {
   "cell_type": "code",
   "execution_count": null,
   "id": "ec4a07af",
   "metadata": {},
   "outputs": [],
   "source": []
  },
  {
   "cell_type": "markdown",
   "id": "22f19adf",
   "metadata": {},
   "source": [
    "## Part VI"
   ]
  },
  {
   "cell_type": "markdown",
   "id": "38bcab34",
   "metadata": {},
   "source": [
    "### F1: Results"
   ]
  },
  {
   "cell_type": "markdown",
   "id": "9e7a2ff9",
   "metadata": {},
   "source": [
    "### F2: Recommendations"
   ]
  },
  {
   "cell_type": "markdown",
   "id": "c2d96e0f",
   "metadata": {
    "id": "3DCr5UNGb3gM"
   },
   "source": [
    "### I: Sources\n"
   ]
  }
 ],
 "metadata": {
  "colab": {
   "collapsed_sections": [],
   "name": "D207.ipynb",
   "provenance": [],
   "toc_visible": true
  },
  "interpreter": {
   "hash": "13ad6afb6e1aa29a4493502d6e81cae1b92c7d2692e3b71de2e01e62b588a225"
  },
  "kernelspec": {
   "display_name": "Python 3.8.12 64-bit ('D208': conda)",
   "name": "python3"
  },
  "language_info": {
   "codemirror_mode": {
    "name": "ipython",
    "version": 3
   },
   "file_extension": ".py",
   "mimetype": "text/x-python",
   "name": "python",
   "nbconvert_exporter": "python",
   "pygments_lexer": "ipython3",
   "version": "3.8.12"
  }
 },
 "nbformat": 4,
 "nbformat_minor": 5
}
